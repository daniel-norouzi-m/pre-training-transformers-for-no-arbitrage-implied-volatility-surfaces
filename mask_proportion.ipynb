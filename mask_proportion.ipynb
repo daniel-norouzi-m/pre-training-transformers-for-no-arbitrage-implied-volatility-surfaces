{
 "cells": [
  {
   "cell_type": "code",
   "execution_count": 1,
   "metadata": {},
   "outputs": [],
   "source": [
    "import numpy as np\n",
    "import pandas as pd\n",
    "import random\n",
    "import copy\n",
    "import torch\n",
    "from torch.utils.data import DataLoader\n",
    "from ivyspt.input_processing import split_surfaces, IVSurfaceDataset\n",
    "from ivyspt.trainer import Trainer\n",
    "from ivyspt.ivyspt import IvySPT\n",
    "\n",
    "# Set the random seed for reproducibility\n",
    "RANDOM_STATE = 0\n",
    "N_JOBS = 8\n",
    "torch.manual_seed(RANDOM_STATE)\n",
    "np.random.seed(RANDOM_STATE)\n",
    "random.seed(RANDOM_STATE)"
   ]
  },
  {
   "cell_type": "code",
   "execution_count": null,
   "metadata": {},
   "outputs": [],
   "source": [
    "pre_train_loss_records = pd.read_csv('tests/pre_train_test_loss_records.csv')\n",
    "fine_tune_loss_records = pd.read_csv('tests/fine_tune_test_loss_records.csv')"
   ]
  },
  {
   "cell_type": "code",
   "execution_count": null,
   "metadata": {},
   "outputs": [],
   "source": [
    "pre_train_loss_records = pre_train_loss_records.groupby('Mask Proportion').agg(\n",
    "    MSE_Loss_Mean=('MSE Loss', 'mean'),\n",
    "    MSE_Loss_Std=('MSE Loss', 'std'),\n",
    "    Calendar_Arbitrage_Loss_Mean=('Calendar Arbitrage Loss', 'mean'),\n",
    "    Calendar_Arbitrage_Loss_Std=('Calendar Arbitrage Loss', 'std'),\n",
    "    Butterfly_Arbitrage_Loss_Mean=('Butterfly Arbitrage Loss', 'mean'),\n",
    "    Butterfly_Arbitrage_Loss_Std=('Butterfly Arbitrage Loss', 'std')\n",
    ")\n",
    "pre_train_loss_records = pre_train_loss_records.groupby('Mask Proportion').agg(\n",
    "    MSE_Loss_Mean=('MSE Loss', 'mean'),\n",
    "    MSE_Loss_Std=('MSE Loss', 'std'),\n",
    "    Calendar_Arbitrage_Loss_Mean=('Calendar Arbitrage Loss', 'mean'),\n",
    "    Calendar_Arbitrage_Loss_Std=('Calendar Arbitrage Loss', 'std'),\n",
    "    Butterfly_Arbitrage_Loss_Mean=('Butterfly Arbitrage Loss', 'mean'),\n",
    "    Butterfly_Arbitrage_Loss_Std=('Butterfly Arbitrage Loss', 'std')\n",
    ")"
   ]
  }
 ],
 "metadata": {
  "kernelspec": {
   "display_name": "Apache",
   "language": "python",
   "name": "python3"
  },
  "language_info": {
   "codemirror_mode": {
    "name": "ipython",
    "version": 3
   },
   "file_extension": ".py",
   "mimetype": "text/x-python",
   "name": "python",
   "nbconvert_exporter": "python",
   "pygments_lexer": "ipython3",
   "version": "3.10.13"
  }
 },
 "nbformat": 4,
 "nbformat_minor": 2
}
